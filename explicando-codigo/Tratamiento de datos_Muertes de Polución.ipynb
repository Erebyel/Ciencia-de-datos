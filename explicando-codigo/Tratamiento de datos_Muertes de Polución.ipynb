{
 "cells": [
  {
   "cell_type": "code",
   "execution_count": null,
   "metadata": {},
   "outputs": [],
   "source": [
    "import chardet\n",
    "import pandas as pd\n",
    "import numpy as np"
   ]
  },
  {
   "cell_type": "markdown",
   "metadata": {},
   "source": [
    "# Tratamiento de datos: Muertes de Polución\n",
    "\n",
    "Este cuaderno se dedica a preparar el conjunto de datos **Muerte por Polución** para adaptarlo correctamente a cómo podría entenderlo un algoritmo de Aprendizaje Automático. Esto es importante, porque actualmente, la estructura de datos está pensada para la visualización de los datos y su comprensión por humanos.\n",
    "\n",
    "Como aconsejan las buenas prácticas, la carga de las bibliotecas que se utilizarán en el proceso debe hacerse al principio. Sobre las bibliotecas que se cargas, a la hora de realizarlo, las bibliotecas se han utilizado en estas versiones:\n",
    "- chardet 3.0.4\n",
    "- pandas 1.2.0\n",
    "- numpy 1.19.5\n",
    "\n",
    "### Introducción\n",
    "En la mayoría de casos, los datos con los que trabajamos no tienen una estructura adecuada para su gestión con un algoritmo de Aprendizaje Automático y tenemos que hacer una conversión de las tablas para ajustarlas de forma que podamos acceder y utilizar los datos de manera óptima.\n",
    "\n",
    "Muchas veces, los conjuntos de datos llegan a nosotros preparados para generar visualizaciones. Necesitamos entender los datos de los que disponemos y manipular las tablas para generar una estructura de datos adecuada al problema que estemos tratando de solucionar; para ello, realizaremos transposiciones, agrupaciones y/o extracciones.\n",
    "\n",
    "Hay que tener en cuenta la ética del proceso y entender que una manipulación de datos no tiene nada que ver con tergiversarlos o sesgarlos de alguna manera, sino que estamos planteando una transformación de su estructura.\n",
    "\n",
    "Para aquellos que estén comenzando a realizar procesos de limpieza y tratamiento de datos con Python y Pandas a través de cuadernos Jupyter, tened presente que necesitáis reasignar las variables a los cambios que vayáis haciendo en el conjunto de datos. Es igualmente importante mantener la integridad del original para poder recuperar los datos de origen si en algún momento hicieran falta. Pandas, además, dispone de parámetros en algunas funciones como `drop` que permiten realizar cambios en el conjunto de datos sin tener que reasignar la variable, busca si las funciones que quieres utilizar lo permiten en la documentación de Pandas y luego actívalo añadiéndolo dentro del paréntesis: `inplace=True`.\n",
    "\n",
    "### Carga del conjunto de datos"
   ]
  },
  {
   "cell_type": "code",
   "execution_count": null,
   "metadata": {},
   "outputs": [],
   "source": [
    "ruta_archivo = './datos/airPollutionDeathRate.csv'\n",
    "\n",
    "def pd_abrir_archivo(ruta_archivo, separador=','):\n",
    "    with open(ruta_archivo, 'rb') as original:\n",
    "        resultado = chardet.detect(original.read())\n",
    "    return pd.read_csv(ruta_archivo, sep=separador, encoding=resultado['encoding'])\n",
    "\n",
    "data = pd_abrir_archivo(ruta_archivo)\n",
    "data.drop(['Period'], axis=1, inplace=True)\n",
    "data.sample(10)"
   ]
  },
  {
   "cell_type": "markdown",
   "metadata": {},
   "source": [
    "En este conjunto de datos existe una gran cantidad de columnas categóricas que generan una gran cantidad de ruido y no nos permiten acceder correctamente a la información que necesitamos. En este caso, queremos que `First Tooltip`, que es la columna que nos está aportando la información, se muestre con una clara referencia hacia el país al que está haciendo referencia (`Location`); para ello, debemos generar nuevas columnas diferenciadas a través de los valores almacenados actualmente en `Dim2`, `Indicator` y `Dim1`. Ahora, **¿cómo llevaríamos a cabo el proceso?**\n",
    "\n",
    "Es recomendable, antes de comenzar, que nos hagamos una lista de los pasos a seguir para realizar:\n",
    "1. Queremos trabajar con las filas, por lo que necesitamos realizar una **transposición del conjunto**.\n",
    "2. Tenemos que extraer de alguna manera el nombre del país y convertirlo en el **índice** de la fila del que queremos mantener la información: `First Tooltip`.\n",
    "3. Lo siguiente es generar un nombre identificativo para las columnas, podríamos hacerlo con `Dim2`, `Indicator` y `Dim1`.\n",
    "4. Hay que eliminar el ruido, es decir, las columnas que ya no nos hacen falta.\n",
    "\n",
    "Se podría considerar una buena práctica realizar este proceso sobre una muestra de los datos, viendo cómo se comporta a la hora de aplicar el proceso de transformación que estamos desarrollando. En este caso, podemos utilizar como muestra un único país y, cuando consigamos hacer la transformación del conjunto, automatizar el proceso a través de una función.\n",
    "\n",
    "### Planteamiento de la solución paso a paso\n",
    "\n",
    "1. Lo primero que necesitamos es realizar la transposición del conjunto, este nuevo conjunto lo guardaremos en la variable `data_T` a la que, además, limitaremos por la columna de `Location` a **Afganistán**. Esta muestra se puede realizar de varias maneras; podemos hacer un breve análisis para saber que existen 36 filas (0-35) por cada país, por lo que podemos aplicar un `iloc` para seleccionar ese rango."
   ]
  },
  {
   "cell_type": "code",
   "execution_count": null,
   "metadata": {
    "scrolled": true
   },
   "outputs": [],
   "source": [
    "data_T = data.T.iloc[:,0:36]\n",
    "data_T"
   ]
  },
  {
   "cell_type": "markdown",
   "metadata": {},
   "source": [
    "2. Lo siguiente que queremos es recuperar el nombre del país para luego renombrar `First Tooltip` con él. La opción fácil en este caso sería poner manualmente en nombre del país, pero nos interesa realizarlo a través de una selección que poder automatizar posteriormente. Para que visualmente entendamos mejor el proceso, lo haremos por pasos pequeños:\n",
    "    - Asignamos a una variable el lugar donde sabemos que en el conjunto va a estar el nombre; podemos hacerlo a través, por ejemplo, de .iloc[0,0].\n",
    "    - Renombramos, con `.rename`, el índice de la fila, pasando a llamarse `First Tooltip` con el nombre que hemos almacenado en `pais`.\n",
    "    - Una vez que hemos terminado y viendo que no necesitaremos la fila de `Location`, es recomendable eliminarla."
   ]
  },
  {
   "cell_type": "code",
   "execution_count": null,
   "metadata": {},
   "outputs": [],
   "source": [
    "pais = data_T.iloc[0,0]\n",
    "data_T.rename(index={'First Tooltip':pais}, inplace=True)\n",
    "data_T.drop(['Location'], axis=0, inplace=True)\n",
    "data_T"
   ]
  },
  {
   "cell_type": "markdown",
   "metadata": {},
   "source": [
    "Cuando hayamos hecho los cambios, ya tenemos en una fila los datos de **Afganistán**, ahora nos queda que las columnas tengan un nombre significativo.\n",
    "\n",
    "3. Como los datos que identifican las columnas están actualmente almacenados en tres filas diferentes, podemos realizar este trabajo generando un vector en el que se almacenen concatenados los textos contenidos en estas tres filas; para ello:\n",
    "    - Guardamos en una variable a la que podemos llamar, por ejemplo, `vector_txt` la concatenación de los textos.\n",
    "    - Una vez tengamos este vector hecho, lo único que tenemos que hacer es lo mismo que ya hicimos con  `First Tooltip`, pero esta vez, la sustitución del nombre no afectará **índice**, sino a las **columnas**.\n",
    "    - Finalmente, para mantener el conjunto que estamos convirtiendo lo más limpio posible, eliminamos las filas que ya no nos hacen falta (`Dim2`, `Indicator` y `Dim1`)"
   ]
  },
  {
   "cell_type": "code",
   "execution_count": null,
   "metadata": {},
   "outputs": [],
   "source": [
    "vector_txt = data_T.iloc[0,:] + \" | \" + data_T.iloc[1,:] + \" | \" + data_T.iloc[2,:]\n",
    "data_T.rename(columns=vector_txt, inplace=True)\n",
    "data_T.drop(['Dim2', 'Indicator', 'Dim1'], axis=0, inplace=True)"
   ]
  },
  {
   "cell_type": "markdown",
   "metadata": {},
   "source": [
    "### Automatización del proceso\n",
    "\n",
    "Una vez tenemos todos los pasos para conseguir el resultado que buscamos, podemos generalizarlo y crear una o dos funciones que, al aplicarlas, nos faciliten la creación de un nuevo conjunto de datos que nos sirva para seguir trabajando y extrayendo información de él.\n",
    "\n",
    "La creación de funciones, en este momento, nos sirve para ordenar y hacer el todo el proceso de forma cómoda; además, nos sirve para ver todo el desarrollo de un vistazo; por supuesto, la conversión de un proceso que hemos hecho manualmente sobre una muestra requiere de modificaciones y alteraciones para hacerla bien. Así, el proceso que hemos llevado hasta ahora, se simplificaría en la función `transformacion_df`."
   ]
  },
  {
   "cell_type": "code",
   "execution_count": null,
   "metadata": {},
   "outputs": [],
   "source": [
    "def transformacion_df(df_paises):\n",
    "    df_pais = df_paises.rename(index={'First Tooltip':df_paises.iloc[0,0]})\n",
    "    vector_txt = df_pais.iloc[1,:] + \" | \" + df_pais.iloc[2,:] + \" | \" + df_pais.iloc[3,:]\n",
    "    df_pais = df_pais.rename(columns=vector_txt)\n",
    "    df_pais = df_pais.drop(['Location', 'Dim2', 'Indicator', 'Dim1'], axis=0)\n",
    "    return df_pais"
   ]
  },
  {
   "cell_type": "markdown",
   "metadata": {},
   "source": [
    "#### Explicando la función `transformación_df` línea a línea\n",
    "\n",
    "`def transformacion_df(df_paises):`\n",
    "\n",
    "Introduciendo en la función como parámetro de entrada el conjunto ya transpuesto y filtrado, lo primero que hacemos es, según el valor que aparece en `df_paises.iloc[0,0]`, sustituir el nombre del índice del conjunto `df_pais` que antes se llamaba `First Tooltip` por el nombre del país.\n",
    "\n",
    "`df_pais = df_paises.rename(index={'First Tooltip':df_paises.iloc[0,0]})`\n",
    "\n",
    "Creamos una variable llamada `vector_txt` que contiene **un vector de información** que concatena los valores contenidos en las celdas específicas de `df_pais` que le hemos especificado a través de `.iloc`.\n",
    "\n",
    "`vector_txt = df_pais.iloc[1,:] + \" | \" + df_pais.iloc[2,:] + \" | \" + df_pais.iloc[3,:]`\n",
    "\n",
    "Utilizamos `vector_txt` para renombrar las columnas del conjunto `df_pais`\n",
    "\n",
    "`df_pais = df_pais.rename(columns=vector_txt)`\n",
    "\n",
    "Eliminamos las filas que contienen los datos que ya no vamos a necesitar a través de un drop: `Location`, `Dim2`, `Indicator`, `Dim1`\n",
    "\n",
    "`df_pais = df_pais.drop(['Location', 'Dim2', 'Indicator', 'Dim1'], axis=0)`\n",
    "\n",
    "Una vez finalizado el proceso, la función nos devuelve el conjunto de `df_pais` con las modificaciones hechas.\n",
    "\n",
    "`return df_pais`\n",
    "\n",
    "## Aplicación del proceso a todo el conjunto\n",
    "\n",
    "Ahora nos toca aplicar la función de transormación a todo el conjunto que hemos cargado; para ello, crearemos un bucle `for` que nos extraiga del conjunto de datos original la lista de los países que contiene. Esta lista la podemos conseguir fácilmente extrayendo los valores únicos de la columna `Location` con `.unique()`.\n",
    "\n",
    "Por supuesto, el bucle va a necesitar que hagamos dos cosas incialmente:\n",
    "1. Que definamos un conjunto de datos vacío donde se almacenarán las nuevas filas que vayamos generando con la función de `transformacion_df`.\n",
    "2. Que tengamos hecha ya la transposición del conjunto de datos original (`dfT`).\n",
    "\n",
    "Una vez definidas estas dos variables, podemos enfrentarnos a la creación del bucle, **¿qué necesita hacer el bucle?** \n",
    "1. Necesita hacer la **selección** de los datos; como queremos seleccionar por país, tenemos que hacer un `.loc` que recupere todas las filas que sean del país determinado; para verlo claramente, esta selección la podemos guardar en una variable intermedia, la que hemos llamado `seleccion`.\n",
    "2. A esta selección le aplicamos la función que acabamos de crear de `transformacion_df` que realizará todo el proceso con cada conjunto de pais que recupere de `df['Location']` y la almacenará en la variable `fila`.\n",
    "3. Esta variable fila se irá concatenando con cada vuelta del bucle al conjunto final que hemos definido en `df_final`."
   ]
  },
  {
   "cell_type": "code",
   "execution_count": null,
   "metadata": {},
   "outputs": [],
   "source": [
    "df_final = pd.DataFrame()\n",
    "data_T = data.T\n",
    "\n",
    "for pais in data['Location'].unique():\n",
    "    seleccion = data_T.loc[:, data_T.loc['Location'] == pais]\n",
    "    fila = transformacion_df(seleccion)\n",
    "    df_final = pd.concat([df_final, fila])\n",
    "\n",
    "df_final"
   ]
  },
  {
   "cell_type": "markdown",
   "metadata": {},
   "source": [
    "**La segunda función la generaremos con el bucle que hemos generado para trabajar el conjunto de datos**; si bien podemos decirle que el procesamiento lo haga en tramos del conjunto, tal como hicimos a la hora de recopilar las 36 primeras filas, esto nos podría suponer un problema si el conjunto añade alguna fila más de datos posteriormente.\n",
    "\n",
    "Obviamente, estas dos funciones podrían plantearse fácilmente para que todo el proceso estuviese en una única función; el hecho de separarlas nos permite acceder a la de transformación sin necesitar la de conversión, lo que podría ser interesante si no queremos hacer todo el proceso sobre todo el conjunto."
   ]
  },
  {
   "cell_type": "code",
   "execution_count": null,
   "metadata": {},
   "outputs": [],
   "source": [
    "def convercion_completa_df(df):\n",
    "    df_final = pd.DataFrame()\n",
    "    dfT = df.T\n",
    "    \n",
    "    for pais in df['Location'].unique():\n",
    "        seleccion = dfT.loc[:, dfT.loc['Location'] == pais]\n",
    "        fila = transformacion_df(seleccion)\n",
    "        df_final = pd.concat([df_final, fila])\n",
    "    \n",
    "    return df_final\n",
    "\n",
    "df = convercion_completa_df(data).T\n",
    "df"
   ]
  },
  {
   "cell_type": "markdown",
   "metadata": {},
   "source": [
    "#### Explicando la función `convercion_completa_df` línea a línea\n",
    "\n",
    "`def convercion_completa_df(df):`\n",
    "\n",
    "Una vez cargado el conjunto de datos completo en la función, lo primero que se ejecuta es la creación de un conjunto de datos vacío que se almacena en `df_final` y se genera también un conjunto **transpuesto** del conjunto original que se almacena en `dfT`.\n",
    "\n",
    "`df_final = pd.DataFrame()`\n",
    "\n",
    "\n",
    "`dfT = df.T`\n",
    "\n",
    "Creamos entonces un bucle **for** en el que para cada **país**, que esté en la lista que genera `.unique()` para los valores que estén en la columna `Location` del conjunto original `df`, será el que defina la selección posterior de las columnas que se utilizarán en el conjunto transpuesto `dfT`.\n",
    "\n",
    "`for pais in df['Location'].unique():`\n",
    "\n",
    "Seleccionamos, utilizando esta vez `.loc`, todas aquellas columnas que cumplan la condición de pertenecer al país que se está recuperando en ese momento y se almacena en `seleccion`.\n",
    "\n",
    "`seleccion = dfT.loc[:, dfT.loc['Location'] == pais]`\n",
    "\n",
    "A este conjunto filtrado que hemos almacenado en `seleccion` le aplicamos la función que hemos creado y definido **antes** de `transformacion_df` que tendrá como parámetro de entrada el conjunto filtrado y que se almacenará en la variable `fila`.\n",
    "\n",
    "`fila = transformacion_df(seleccion)`\n",
    "\n",
    "En el conjunto que hemos preparado para recibir los datos modificados, `df_final`, iremos en cada vuelta del bucle **concatenando** los resultados del proceso; una vez termine de ejecutarse, será este conjunto final el que nos devuelva la función.\n",
    "\n",
    "`df_final = pd.concat([df_final, fila])`\n",
    "\n",
    "\n",
    "`return df_final`\n",
    "\n",
    "### Apuntes finales\n",
    "\n",
    "Ten cuidado cuando definas una función que llama a otra y no te olvides **definir ambas** antes de llamar a la primera, ya que podría generarte un error al no encontrar alguna de las que necesita. Por ello, a la hora de definir las funciones, es recomendable que estén todas ordenadas **al inicio y en la misma celda** cuando trabajemos en Jupyter y así evitarnos errores inesperados.\n",
    "\n",
    "En la siguiente celda, además, puedes ver cómo se han hecho algunos cambios a las funciones para permitir que sean aún más genéricas: \n",
    "* En `transformacion_df`, en vez de eliminar las filas específicas, lo que hacemos es seleccionar únicamente la fila que contiene en este caso el objetivo.\n",
    "    - Además, como esta fila podría estar situada en otro orden, hacemos que uno de los parámetros de entrada sea `fila_objetivo`, que nos permitirá modificar el número de la columna en la que se encuentran los datos objetivo. (Digo columna porque el número a introducir sería el natural (no comenzando desde 0) de la posición de la columna objetivo según el conjunto original).\n",
    "    - Igualmente, he puesto como parámetros de entrada la columna que usamos para seleccionar los `paises`, y la columna donde están los datos que queremos mantener como `objetivo`.\n",
    "    \n"
   ]
  },
  {
   "cell_type": "code",
   "execution_count": null,
   "metadata": {},
   "outputs": [],
   "source": [
    "def transformacion_df(df_paises, objetivo, fila_objetivo, pais):\n",
    "    '''Función que permite, dado unn conjunto de datos traspuesto, renombrar la columna objetivo por el nombre\n",
    "    del país, renombrar las columnas según los valores de las filas de características y eliminar las filas del\n",
    "    conjunto que, tras la transformación, ya no son necesarias.'''\n",
    "    \n",
    "    df_pais = df_paises.rename(index={objetivo:pais})\n",
    "    vector_txt = df_pais.iloc[1,:] + \" | \" + df_pais.iloc[2,:] + \" | \" + df_pais.iloc[3,:]\n",
    "    df_pais = df_pais.rename(columns=vector_txt)\n",
    "    df_pais = df_pais[fila_objetivo-1: fila_objetivo]\n",
    "    \n",
    "    return df_pais\n",
    "\n",
    "def convercion_completa_df(df, paises, objetivo, fila_objetivo):\n",
    "    '''Función que genera un conjunto de datos modificados a partir de un conjunto de datos determinado,\n",
    "    seleccionando según los datos almacenados en la columna de datos seleccionada, renombrar el índice\n",
    "    de la fila objetivo en el conjunto transpuesto.\n",
    "    Para un funcionamiento correcto, requiere de haber definido la función transformacion_df'''\n",
    "    \n",
    "    df_final = pd.DataFrame()\n",
    "    dfT = df.T\n",
    "    for pais in df[paises].unique():\n",
    "        seleccion = dfT.loc[:, dfT.loc[paises] == pais]\n",
    "        fila = transformacion_df(seleccion, objetivo, fila_objetivo, pais)\n",
    "        df_final = pd.concat([df_final, fila])\n",
    "    \n",
    "    return df_final"
   ]
  },
  {
   "cell_type": "code",
   "execution_count": null,
   "metadata": {},
   "outputs": [],
   "source": [
    "convercion_completa_df(data, 'Location', 'First Tooltip', 5)"
   ]
  },
  {
   "cell_type": "markdown",
   "metadata": {},
   "source": [
    "Ya tenemos transformados los datos. Ahora habría que separar los valores contenidos para que los reconozca como numéricos y poder acceder también a esos mínimos y a esos máximos. Pero eso ya es otra historia.\n",
    "\n",
    "#### Origen de los datos\n",
    "\n",
    "El conjunto original con el que se ha hecho este ejemplo se ha descargado de la web de la Organización Mundial de la Salud (https://www.who.int/health-topics/air-pollution)"
   ]
  }
 ],
 "metadata": {
  "kernelspec": {
   "display_name": "Python 3",
   "language": "python",
   "name": "python3"
  },
  "language_info": {
   "codemirror_mode": {
    "name": "ipython",
    "version": 3
   },
   "file_extension": ".py",
   "mimetype": "text/x-python",
   "name": "python",
   "nbconvert_exporter": "python",
   "pygments_lexer": "ipython3",
   "version": "3.7.9"
  }
 },
 "nbformat": 4,
 "nbformat_minor": 4
}
